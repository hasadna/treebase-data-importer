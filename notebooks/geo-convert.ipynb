{
 "cells": [
  {
   "cell_type": "code",
   "execution_count": 1,
   "metadata": {},
   "outputs": [
    {
     "data": {
      "text/plain": [
       "True"
      ]
     },
     "execution_count": 1,
     "metadata": {},
     "output_type": "execute_result"
    }
   ],
   "source": [
    "import sys\n",
    "sys.path.append('..')\n",
    "\n",
    "import os\n",
    "import shutil\n",
    "import requests\n",
    "import dataclasses\n",
    "from pathlib import Path\n",
    "import json\n",
    "\n",
    "import dotenv\n",
    "\n",
    "import fiona\n",
    "from pyproj import Transformer\n",
    "from shapely.ops import transform, unary_union\n",
    "from shapely.geometry import shape, mapping\n",
    "\n",
    "dotenv.load_dotenv()"
   ]
  },
  {
   "cell_type": "code",
   "execution_count": 2,
   "metadata": {},
   "outputs": [],
   "source": [
    "from typing import List\n",
    "\n",
    "\n",
    "@dataclasses.dataclass\n",
    "class Source:\n",
    "    urls: List[str]\n",
    "    kind: str\n",
    "    # layer: str"
   ]
  },
  {
   "cell_type": "code",
   "execution_count": 3,
   "metadata": {},
   "outputs": [],
   "source": [
    "SHAPEFILE_EXTS = ['shp', 'shx', 'dbf', 'prj']\n",
    "\n",
    "SOURCES = [\n",
    "    Source(['https://s3.us-east-1.wasabisys.com/opentreebase-public/source/beer-sheva/open-data/2022/trees.geojson'], 'trees'),\n",
    "    Source(['https://s3.us-east-1.wasabisys.com/opentreebase-public/source/jerusalem/surveys/2022/tree_survey.' + x for x in SHAPEFILE_EXTS], 'trees'),\n",
    "    Source(['https://s3.us-east-1.wasabisys.com/opentreebase-public/source/beer-sheva/canopies/2022/Trees_Beer_Sheva.' + x for x in SHAPEFILE_EXTS], 'canopies'),\n",
    "]"
   ]
  },
  {
   "cell_type": "code",
   "execution_count": 11,
   "metadata": {},
   "outputs": [
    {
     "name": "stdout",
     "output_type": "stream",
     "text": [
      "source-beer-sheva-open-data LAYER source-beer-sheva-open-data\n",
      "source-beer-sheva-open-data CRS {'init': 'epsg:4326'}\n",
      "source-jerusalem-surveys LAYER source-jerusalem-surveys\n",
      "source-jerusalem-surveys CRS {'init': 'epsg:2039'}\n",
      "source-beer-sheva-canopies LAYER source-beer-sheva-canopies\n",
      "source-beer-sheva-canopies CRS {'init': 'epsg:2039'}\n"
     ]
    }
   ],
   "source": [
    "TEMPDIR = Path('temp')\n",
    "OUTPUTS = {}\n",
    "for kind in ['trees', 'canopies']:\n",
    "    outfilename = TEMPDIR / (kind + '.geojson')\n",
    "    OUTPUTS[kind] = outfilename\n",
    "    with outfilename.open('w') as outfile:\n",
    "        outfile.write('{\"type\": \"FeatureCollection\", \"features\": [')\n",
    "        first = True\n",
    "\n",
    "        for source in SOURCES:\n",
    "            if source.kind != kind:\n",
    "                continue\n",
    "\n",
    "            parts = source.urls[0].split('/')[4:7]\n",
    "            slug = '-'.join(parts)\n",
    "\n",
    "            os.makedirs(TEMPDIR / slug, exist_ok=True)\n",
    "\n",
    "            # Download the file into temp file with the same extension\n",
    "            source_file = None\n",
    "            for url in source.urls:\n",
    "                tempfile = (TEMPDIR / slug / slug).with_suffix(Path(url).suffix)\n",
    "                if not tempfile.exists():\n",
    "                    with tempfile.open('wb') as temp:\n",
    "                        print(slug, 'DOWNLOADING', url)\n",
    "                        r = requests.get(url, stream=True).raw\n",
    "                        shutil.copyfileobj(r, temp)\n",
    "                if source_file is None:\n",
    "                    source_file = tempfile\n",
    "\n",
    "            # Open the file with fiona\n",
    "            layer = fiona.listlayers(source_file)[0]\n",
    "            print(slug, 'LAYER', layer)\n",
    "            with fiona.open(source_file, layername=layer) as collection:\n",
    "                print(slug, 'CRS', collection.crs)\n",
    "                transformer = None\n",
    "                if collection.crs['init'] != 'epsg:4326':\n",
    "                    transformer = Transformer.from_crs(collection.crs['init'], 'epsg:4326', always_xy=True)\n",
    "                    \n",
    "                for item in collection.filter():\n",
    "                    if item['geometry'] is None:\n",
    "                        continue\n",
    "                    geometry = item['geometry']\n",
    "                    if transformer is not None:\n",
    "                        geometry = mapping(transform(transformer.transform, shape(geometry)))\n",
    "                    if first:\n",
    "                        first = False\n",
    "                    else:\n",
    "                        outfile.write(',')\n",
    "                    outfile.write(json.dumps(dict(\n",
    "                        type='Feature',\n",
    "                        properties={},\n",
    "                        geometry=geometry,\n",
    "                    )))\n",
    "        outfile.write(']}')\n"
   ]
  },
  {
   "cell_type": "code",
   "execution_count": null,
   "metadata": {},
   "outputs": [],
   "source": [
    "from notebooks.mapbox_utils import run_tippecanoe, upload_tileset\n",
    "\n",
    "for kind, filename in OUTPUTS.items():\n",
    "    print(kind, filename)\n",
    "    mbtiles_filename = str(filename.with_suffix('.mbtiles'))\n",
    "    if run_tippecanoe('-z15', str(filename), '-o', mbtiles_filename, \n",
    "                      '-l', kind):\n",
    "        print('SUCCESS')\n",
    "        upload_tileset(mbtiles_filename, 'treebase.' + kind, kind.title() + ' Data')\n"
   ]
  },
  {
   "cell_type": "code",
   "execution_count": null,
   "metadata": {},
   "outputs": [],
   "source": []
  }
 ],
 "metadata": {
  "kernelspec": {
   "display_name": "Python 3",
   "language": "python",
   "name": "python3"
  },
  "language_info": {
   "codemirror_mode": {
    "name": "ipython",
    "version": 3
   },
   "file_extension": ".py",
   "mimetype": "text/x-python",
   "name": "python",
   "nbconvert_exporter": "python",
   "pygments_lexer": "ipython3",
   "version": "3.9.4"
  },
  "orig_nbformat": 4,
  "vscode": {
   "interpreter": {
    "hash": "72eeb4ac6a97a28138a106fc44f537be30ef848e84c48d6548d2ea910cd7eb2a"
   }
  }
 },
 "nbformat": 4,
 "nbformat_minor": 2
}

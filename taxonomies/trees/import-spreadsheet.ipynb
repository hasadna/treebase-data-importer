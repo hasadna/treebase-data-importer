{
 "cells": [
  {
   "cell_type": "code",
   "execution_count": 24,
   "metadata": {},
   "outputs": [],
   "source": [
    "import dataflows as DF"
   ]
  },
  {
   "cell_type": "code",
   "execution_count": 25,
   "metadata": {},
   "outputs": [],
   "source": [
    "URL = 'https://docs.google.com/spreadsheets/d/1gFV5jreypDMAzXmerIaqBoxX7tOXYkb7wu0UA3wcf5M/edit?usp=sharing'"
   ]
  },
  {
   "cell_type": "code",
   "execution_count": 26,
   "metadata": {},
   "outputs": [
    {
     "name": "stdout",
     "output_type": "stream",
     "text": [
      "using checkpoint data from .checkpoints/taxonomy\n"
     ]
    },
    {
     "data": {
      "text/html": [
       "<h3>edit?usp=sharing</h3>"
      ],
      "text/plain": [
       "<IPython.core.display.HTML object>"
      ]
     },
     "metadata": {},
     "output_type": "display_data"
    },
    {
     "data": {
      "text/html": [
       "<table>\n",
       "<thead>\n",
       "<tr><th>#  </th><th>name\n",
       "(string)                        </th><th>title\n",
       "(string)                  </th><th>description\n",
       "(string)                                      </th><th>dataType\n",
       "(string)       </th><th>mandatory\n",
       "(boolean)      </th><th>options\n",
       "(object)                         </th></tr>\n",
       "</thead>\n",
       "<tbody>\n",
       "<tr><td>1  </td><td>meta:date              </td><td>תאריך עדכון המידע</td><td>למשל, תאריך ביצוע הסקר               </td><td>date  </td><td>True </td><td>{}                      </td></tr>\n",
       "<tr><td>2  </td><td>meta:source            </td><td>מזהה מקור המידע  </td><td>למשל, ״סקר עצים ירוחם״ או ״רשות המים״</td><td>string</td><td>True </td><td>{}                      </td></tr>\n",
       "<tr><td>3  </td><td>meta:url               </td><td>קישור למקור המידע</td><td>קישור למקור ממנו התקבל המידע         </td><td>string</td><td>True </td><td>{&#x27;format&#x27;: &#x27;uri&#x27;}       </td></tr>\n",
       "<tr><td>4  </td><td>meta:source-type       </td><td>סוג מקור המידע   </td><td>תיאור של הארגון ממנו הגיע המידע      </td><td>string</td><td>True </td><td>{}                      </td></tr>\n",
       "<tr><td>5  </td><td>meta:collection-type   </td><td>אופן איסוף המידע </td><td>תיאור של האופן בו נאסף המידע         </td><td>string</td><td>True </td><td>{}                      </td></tr>\n",
       "<tr><td>6  </td><td>meta:tree-id           </td><td>מזעץ             </td><td>המזהה הארצי של העץ                   </td><td>string</td><td>False</td><td>{}                      </td></tr>\n",
       "<tr><td>7  </td><td>meta:internal-id       </td><td>מזהה העץ         </td><td>מזהה פנימי, תלוי מקור, של העץ        </td><td>string</td><td>False</td><td>{}                      </td></tr>\n",
       "<tr><td>8  </td><td>location:x             </td><td>קו אורך          </td><td>קואורדינטת X, בהתאם לרשת שנבחרה      </td><td>number</td><td>True </td><td>{}                      </td></tr>\n",
       "<tr><td>9  </td><td>location:y             </td><td>קו רוחב          </td><td>קואורדינטת Y, בהתאם לרשת שנבחרה      </td><td>number</td><td>True </td><td>{}                      </td></tr>\n",
       "<tr><td>10 </td><td>location:grid          </td><td>רשת קואורדינטות  </td><td>הרשת ממנה נגזרו הקואורדינטות         </td><td>string</td><td>False</td><td>{}                      </td></tr>\n",
       "<tr><td>11 </td><td>location:accuracy      </td><td>דיוק             </td><td>דיוק מדידת המיקום במטרים             </td><td>number</td><td>False</td><td>{}                      </td></tr>\n",
       "<tr><td>12 </td><td>location:elevation     </td><td>גובה מעל פני הים </td><td>גובה הקרקע מעל פני הים, במטרים       </td><td>number</td><td>False</td><td>{}                      </td></tr>\n",
       "<tr><td>13 </td><td>location:city          </td><td>שם יישוב         </td><td>שם היישוב בו מצוי העץ                </td><td>string</td><td>False</td><td>{}                      </td></tr>\n",
       "<tr><td>14 </td><td>location:street        </td><td>שם רחוב          </td><td>שם הרחוב הקרוב ביותר לעץ             </td><td>string</td><td>False</td><td>{}                      </td></tr>\n",
       "<tr><td>15 </td><td>location:street-number </td><td>מספר בית         </td><td>מספר הבית הקרוב ביותר לעץ            </td><td>string</td><td>False</td><td>{}                      </td></tr>\n",
       "<tr><td>16 </td><td>location:address       </td><td>פרטי כתובת       </td><td>מידע נוסף הנוגע למיקום העץ           </td><td>string</td><td>False</td><td>{}                      </td></tr>\n",
       "<tr><td>17 </td><td>location:block         </td><td>גוש              </td><td>מזהה הגוש בו מצוי העץ                </td><td>string</td><td>False</td><td>{}                      </td></tr>\n",
       "<tr><td>18 </td><td>location:plot          </td><td>חלקה             </td><td>מזהה החלקה בה מצוי העץ               </td><td>string</td><td>False</td><td>{}                      </td></tr>\n",
       "<tr><td>19 </td><td>environment:type       </td><td>מרחב העץ         </td><td>תיאור המרחב המיידי של העץ            </td><td>string</td><td>False</td><td>{}                      </td></tr>\n",
       "<tr><td>20 </td><td>environment:description</td><td>מרחב מפורט       </td><td>פרטים נוספים לגבי המרחב              </td><td>string</td><td>False</td><td>{&#x27;commaSeparated&#x27;: True}</td></tr>\n",
       "<tr><td>...</td><td>                       </td><td>                 </td><td>                                     </td><td>      </td><td>     </td><td>                        </td></tr>\n",
       "<tr><td>47 </td><td>importance:aesthetic   </td><td>חשיבות אסתטית    </td><td>האם לעץ יש חשיבות אסתטית, ומהי       </td><td>string</td><td>False</td><td>{}                      </td></tr>\n",
       "<tr><td>48 </td><td>importance:botanical   </td><td>חשיבות בוטנית    </td><td>האם לעץ יש חשיבות בוטנית, ומהי       </td><td>string</td><td>False</td><td>{}                      </td></tr>\n",
       "<tr><td>49 </td><td>importance:community   </td><td>חשיבות קהילתית   </td><td>האם לעץ יש חשיבות קהילתית, ומהי      </td><td>string</td><td>False</td><td>{}                      </td></tr>\n",
       "<tr><td>50 </td><td>photos:general         </td><td>תמונות כלליות    </td><td>תמונות כלליות / לא מקוטלגות של העץ   </td><td>string</td><td>False</td><td>{&#x27;commaSeparated&#x27;: True}</td></tr>\n",
       "<tr><td>51 </td><td>photos:bark            </td><td>תמונות גזע       </td><td>תמונות תקריב של גזע העץ              </td><td>string</td><td>False</td><td>{&#x27;commaSeparated&#x27;: True}</td></tr>\n",
       "<tr><td>52 </td><td>photos:leaf            </td><td>תמונות עלה       </td><td>תמונות תקריב של עלי העץ              </td><td>string</td><td>False</td><td>{&#x27;commaSeparated&#x27;: True}</td></tr>\n",
       "<tr><td>53 </td><td>photos:fruit           </td><td>תמונות פרי       </td><td>תמונות תקריב של פרי העץ              </td><td>string</td><td>False</td><td>{&#x27;commaSeparated&#x27;: True}</td></tr>\n",
       "<tr><td>54 </td><td>photos:wide-view       </td><td>תמונות מבט רחב   </td><td>תמונות רחבות של העץ                  </td><td>string</td><td>False</td><td>{&#x27;commaSeparated&#x27;: True}</td></tr>\n",
       "<tr><td>55 </td><td>photos:ground          </td><td>תמונות קרקע      </td><td>תמונות תקריב של תחתית הגזע של העץ    </td><td>string</td><td>False</td><td>{&#x27;commaSeparated&#x27;: True}</td></tr>\n",
       "<tr><td>56 </td><td>photos:top-view        </td><td>תמונות אוויריות  </td><td>תמונות של העץ במבט על                </td><td>string</td><td>False</td><td>{&#x27;commaSeparated&#x27;: True}</td></tr>\n",
       "</tbody>\n",
       "</table>"
      ],
      "text/plain": [
       "<IPython.core.display.HTML object>"
      ]
     },
     "metadata": {},
     "output_type": "display_data"
    }
   ],
   "source": [
    "TYPES = {\n",
    "    'מחרוזת': 'string',\n",
    "    'מספר שלם': 'integer',\n",
    "    'מספר עשרוני': 'number',\n",
    "    'תאריך': 'date',\n",
    "    'כן/לא': 'boolean',\n",
    "    'קישור בודד': 'string',\n",
    "    'מזעץ': 'string',\n",
    "    'טקסט חופשי': 'string',\n",
    "    'מחרוזת מספרית': 'string',\n",
    "    'מחרוזות מופרדות בפסיק': 'string',\n",
    "    'שנה/תאריך': 'date',\n",
    "    'רשימת קישורים מופרדים בפסיק': 'string',\n",
    "}\n",
    "\n",
    "def get_options(row):\n",
    "    if row['טיפוס הנתונים'] == 'קישור בודד':\n",
    "        return {\n",
    "            'format': 'uri'\n",
    "        }\n",
    "    elif 'בפסיק' in row['טיפוס הנתונים']:\n",
    "        return {\n",
    "            'commaSeparated': True\n",
    "        }\n",
    "    return dict()\n",
    "\n",
    "\n",
    "ct = DF.Flow(\n",
    "    DF.load(URL, headers=3),\n",
    "    DF.checkpoint('taxonomy'),\n",
    "    DF.add_field('name', 'string', lambda r: r['מזהה']),\n",
    "    DF.add_field('title', 'string', lambda r: r['שם השדה']),\n",
    "    DF.add_field('description', 'string', lambda r: r['הסבר']),\n",
    "    DF.add_field('dataType', 'string', lambda r: TYPES[r['טיפוס הנתונים']]),\n",
    "    DF.add_field('mandatory', 'boolean', lambda r: r['חובה'] == 'כן'),\n",
    "    DF.add_field('options', 'object', get_options),\n",
    "    DF.select_fields(['name', 'title', 'description', 'dataType', 'mandatory', 'options']),\n",
    "    DF.printer(tablefmt='html'),\n",
    ").results()[0][0]"
   ]
  },
  {
   "cell_type": "code",
   "execution_count": 27,
   "metadata": {},
   "outputs": [],
   "source": [
    "import json\n",
    "\n",
    "with open('column_types.json', 'w') as out:\n",
    "    json.dump(ct, out, indent=2, ensure_ascii=False)"
   ]
  },
  {
   "cell_type": "code",
   "execution_count": null,
   "metadata": {},
   "outputs": [],
   "source": []
  }
 ],
 "metadata": {
  "kernelspec": {
   "display_name": "Python 3",
   "language": "python",
   "name": "python3"
  },
  "language_info": {
   "codemirror_mode": {
    "name": "ipython",
    "version": 3
   },
   "file_extension": ".py",
   "mimetype": "text/x-python",
   "name": "python",
   "nbconvert_exporter": "python",
   "pygments_lexer": "ipython3",
   "version": "3.9.4"
  },
  "orig_nbformat": 4,
  "vscode": {
   "interpreter": {
    "hash": "f1be32740b55a5b4ecb4e166505ed73917be62c60d5625d8edbf43c674d622ce"
   }
  }
 },
 "nbformat": 4,
 "nbformat_minor": 2
}
